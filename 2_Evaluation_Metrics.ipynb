{
  "nbformat": 4,
  "nbformat_minor": 0,
  "metadata": {
    "colab": {
      "name": "2. Evaluation Metrics.ipynb",
      "provenance": [],
      "toc_visible": true,
      "authorship_tag": "ABX9TyPMWIHI6B1hkOyCPi+SqJ5j",
      "include_colab_link": true
    },
    "kernelspec": {
      "name": "python3",
      "display_name": "Python 3"
    },
    "language_info": {
      "name": "python"
    }
  },
  "cells": [
    {
      "cell_type": "markdown",
      "metadata": {
        "id": "view-in-github",
        "colab_type": "text"
      },
      "source": [
        "<a href=\"https://colab.research.google.com/github/indrikwijaya/Approaching-Any-ML-Problem/blob/master/2_Evaluation_Metrics.ipynb\" target=\"_parent\"><img src=\"https://colab.research.google.com/assets/colab-badge.svg\" alt=\"Open In Colab\"/></a>"
      ]
    },
    {
      "cell_type": "code",
      "execution_count": 1,
      "metadata": {
        "colab": {
          "base_uri": "https://localhost:8080/"
        },
        "id": "11wFh--XinLK",
        "outputId": "5fe233e2-ae95-4351-d10b-3d6cdc204f02"
      },
      "outputs": [
        {
          "output_type": "stream",
          "name": "stdout",
          "text": [
            "Mounted at /content/drive\n"
          ]
        }
      ],
      "source": [
        "# 1. mount gdrive to gcolab notebook\n",
        "from google.colab import drive\n",
        "drive.mount('/content/drive')"
      ]
    },
    {
      "cell_type": "code",
      "source": [
        "%cd /content/drive/MyDrive/Colab\\ Notebooks/Approaching-Any-ML-Problem"
      ],
      "metadata": {
        "colab": {
          "base_uri": "https://localhost:8080/"
        },
        "id": "RJqFf-cHjQoO",
        "outputId": "7231ec7f-6d71-4ec7-e18b-cd910beaa963"
      },
      "execution_count": 2,
      "outputs": [
        {
          "output_type": "stream",
          "name": "stdout",
          "text": [
            "/content/drive/MyDrive/Colab Notebooks/Approaching-Any-ML-Problem\n"
          ]
        }
      ]
    },
    {
      "cell_type": "markdown",
      "source": [
        "# Evaluation Metrics\n",
        "Classification:\n",
        "- Accuracy\n",
        "- Precision (P)\n",
        "- Recall (R)\n",
        "- F1 score (F1)\n",
        "- Area under ROC (AUC)\n",
        "- Log loss\n",
        "- Precision at k (P@k)\n",
        "- Average precision at k (AP@k)\n",
        "- Mean average precision at k (MAP@k)\n",
        "\n",
        "Regression:\n",
        "- MAE\n",
        "- MSE\n",
        "- RMSE\n",
        "- Root mean squared logarithmic error (RMSLE)\n",
        "- Mean percentage error (MPE)\n",
        "- Mean absolute percentage error (MAPE)\n",
        "- $R^2$"
      ],
      "metadata": {
        "id": "AvjpFvIljSEI"
      }
    },
    {
      "cell_type": "markdown",
      "source": [
        "# Classification"
      ],
      "metadata": {
        "id": "XGjL80nx0hLc"
      }
    },
    {
      "cell_type": "markdown",
      "source": [
        "## Binary Classification problem\n",
        "\n",
        "- only 2 targets\n",
        "- eg. classifying chest x-ray images: images w/ no problem and images w/ collapsed lung (pneumothorax)\n",
        "- assume equal # of pneumothorax and non-pneumothorax images (100 each)\n",
        "\n",
        "1st step: divide into training and validation set\n",
        "- equal # of positive and negatie samples in a binary classification -> use accuracy, precision, recall and f1\n",
        "\n"
      ],
      "metadata": {
        "id": "ca8Z6UP6mu9z"
      }
    },
    {
      "cell_type": "code",
      "source": [
        "def accuracy(y_true, y_pred): \n",
        "  \"\"\"\n",
        "  Function to calculate accuracy\n",
        "  :param y_true: list of true values\n",
        "  :param y_pred: list of predicted values\n",
        "  :return: accuracy score\n",
        "  \"\"\"\n",
        "\n",
        "  # initialize a simple counter for correct predictions\n",
        "  correct_counter = 0\n",
        "  # loop over all elements of y_true and y_pred\n",
        "  for yt, yp in zip(y_true, y_pred):\n",
        "    if yt == yp:\n",
        "      correct_counter += 1\n",
        "  return correct_counter/len(y_true)"
      ],
      "metadata": {
        "id": "oFm6s9dxnJQ6"
      },
      "execution_count": 3,
      "outputs": []
    },
    {
      "cell_type": "markdown",
      "source": [
        "Now, let’s say we change the dataset a bit such that there are 180 chest x-ray images which do not have pneumothorax and only 20 with pneumothorax. Even in this case, we will create the training and validation sets with the same ratio of positive to negative (pneumothorax to non- pneumothorax) targets. In each set, we have 90 non- pneumothorax and 10 pneumothorax images. If you say that all images in the\n",
        "validation set are non-pneumothorax, what would your accuracy be? Let’s see; you classified 90% of the images correctly. So, your accuracy is 90%.\n",
        "\n",
        "You didn’t even build a model and got an accuracy of 90%. That seems kind of useless. If we look carefully, we will see that the dataset is skewed, i.e., the number of samples in one class outnumber the number of samples in other class by a lot. In these kinds of cases, it is not advisable to use accuracy as an evaluation metric as it is not representative of the data. So, you might get high accuracy, but your model\n",
        "will probably not perform that well when it comes to real-world samples, and you won’t be able to explain to your managers why.\n",
        "\n",
        "In these cases, it’s better to look at other metrics such as precision. Before learning about precision, we need to know a few terms. Here we have assumed that chest x-ray images with pneumothorax are positive class (1) and without pneumothorax are negative class (0).\n",
        "\n",
        "Given an image,\n",
        "**True Positive (TP)**: prediction = pneumothorax, actual = pneumothorax\n",
        "\n",
        "**True Negative (TN)**: prediction = non-pneumothorax, actual = non-pneumothorax\n",
        "\n",
        "I.e. if model correctly predicts +ve class -> TP; if model correctly predicts -ve class -> TN\n",
        "\n",
        "**False Positive (FP)**: prediction = pneumothorax, actual = non-pneumothorax\n",
        "\n",
        "**False Negative (FN)**: prediction = non-pneumothorax, actual = pneumothorax\n",
        "\n",
        "i.e. If model falsely predicts +ve class -> FP; if model false predicts -ve class -> FN"
      ],
      "metadata": {
        "id": "EpqBP_CVn41s"
      }
    },
    {
      "cell_type": "code",
      "source": [
        "def true_positive(y_true, y_pred):\n",
        "  \"\"\"\n",
        "  Function to calculate True Positives\n",
        "  :param y_true: list of true values\n",
        "  :param y_pred: list of predicted values\n",
        "  :return: number of true positives\n",
        "  \"\"\"\n",
        "  # initialize\n",
        "  tp = 0\n",
        "  for yt, yp in zip(y_true, y_pred):\n",
        "    if yt == 1 and yp == 1:\n",
        "      tp += 1\n",
        "  return tp\n",
        "\n",
        "def true_negative(y_true, y_pred):\n",
        "  \"\"\"\n",
        "  Function to calculate True Negatives\n",
        "  :param y_true: list of true values\n",
        "  :param y_pred: list of predicted values\n",
        "  :return: number of true negatives\n",
        "  \"\"\"\n",
        "  # initialize\n",
        "  tn = 0\n",
        "  for yt, yp in zip(y_true, y_pred):\n",
        "    if yt == 0 and yp == 0:\n",
        "     tn += 1\n",
        "  return tn\n",
        "\n",
        "def false_positive(y_true, y_pred):\n",
        "  \"\"\"\n",
        "  Function to calculate False Positives\n",
        "  :param y_true: list of true values\n",
        "  :param y_pred: list of predicted values\n",
        "  :return: number of false positives\n",
        "  \"\"\"\n",
        "  # initialize\n",
        "  fp = 0\n",
        "  for yt, yp in zip(y_true, y_pred):\n",
        "    if yt == 0 and yp == 1:\n",
        "     fp += 1\n",
        "  return fp\n",
        "\n",
        "def false_negative(y_true, y_pred):\n",
        "  \"\"\"\n",
        "  Function to calculate False Negatives\n",
        "  :param y_true: list of true values\n",
        "  :param y_pred: list of predicted values\n",
        "  :return: number of false negatives\n",
        "  \"\"\"\n",
        "  # initialize\n",
        "  fn = 0\n",
        "  for yt, yp in zip(y_true, y_pred):\n",
        "    if yt == 1 and yp == 0:\n",
        "      fn += 1\n",
        "  return fn"
      ],
      "metadata": {
        "id": "qVPtCCDDpwmP"
      },
      "execution_count": 5,
      "outputs": []
    },
    {
      "cell_type": "markdown",
      "source": [
        "$Accuracy = \\frac{TP + TN}{TP + TN + FP + FN}$\n"
      ],
      "metadata": {
        "id": "q3RvJ9ZnqIbS"
      }
    },
    {
      "cell_type": "code",
      "source": [
        "def accuracy_v2(y_true, y_pred):\n",
        "  \"\"\"\n",
        "  Function to calculate accuracy using tp/tn/fp/fn\n",
        "  :param y_true: list of true values\n",
        "  :param y_pred: list of predicted values\n",
        "  :return: accuracy score\n",
        "  \"\"\"\n",
        "  tp = true_positive(y_true, y_pred)\n",
        "  fp = false_positive(y_true, y_pred)\n",
        "  fn = false_negative(y_true, y_pred)\n",
        "  tn = true_negative(y_true, y_pred)\n",
        "  accuracy_score = (tp + tn) / (tp + tn + fp + fn)\n",
        "  return accuracy_score"
      ],
      "metadata": {
        "id": "Kw4QDPx7qVE1"
      },
      "execution_count": 6,
      "outputs": []
    },
    {
      "cell_type": "markdown",
      "source": [
        "$Precision = \\frac{TP}{TP + FP}$\n",
        "\n",
        "-> Tells us how correct our model is in identifying +ve class"
      ],
      "metadata": {
        "id": "n1Tq2N8fqWQx"
      }
    },
    {
      "cell_type": "code",
      "source": [
        "def precision(y_true, y_pred):\n",
        "  \"\"\"\n",
        "  Function to calculate precision\n",
        "  :param y_true: list of true values\n",
        "  :param y_pred: list of predicted values\n",
        "  :return: precision score\n",
        "  \"\"\"\n",
        "  tp = true_positive(y_true, y_pred)\n",
        "  fp = false_positive(y_true, y_pred)\n",
        "  precision = tp / (tp + fp)\n",
        "  return precision"
      ],
      "metadata": {
        "id": "S8yfO7pVqjc6"
      },
      "execution_count": 15,
      "outputs": []
    },
    {
      "cell_type": "markdown",
      "source": [
        "$Recall (TPR) = \\frac{TP}{TP + FN}$\n",
        "\n",
        "-> Or Sensitivity, Tells us how correct our model in identifying +ve classes out of both classes"
      ],
      "metadata": {
        "id": "S9p_-HW8ql1F"
      }
    },
    {
      "cell_type": "code",
      "source": [
        "def recall(y_true, y_pred):\n",
        "  \"\"\"\n",
        "  Function to calculate recall\n",
        "  :param y_true: list of true values\n",
        "  :param y_pred: list of predicted values\n",
        "  :return: recall score\n",
        "  \"\"\"\n",
        "  tp = true_positive(y_true, y_pred)\n",
        "  fn = false_negative(y_true, y_pred)\n",
        "  recall = tp / (tp + fn)\n",
        "  return recall"
      ],
      "metadata": {
        "id": "VckLxo5TrJR4"
      },
      "execution_count": 16,
      "outputs": []
    },
    {
      "cell_type": "markdown",
      "source": [
        "For a “good” model, our precision and recall values should be high. Let's say our model produces quite a lot of false positives but less false negatives. Fewer false negatives are good in this type of problem because you don’t want to say that patients don't have pneumothorax when they do. But we do have a lot of Fps, and that's not good either.\n",
        "\n",
        "Most of the models predict a probability, and when we predict, we usually choose this threshold to be 0.5. This threshold is not always ideal, and depending on this threshold, your value of precision and recall can change drastically. If for every threshold we choose, we calculate the precision and recall values, we can create a plot between these sets of values. This plot or curve is known as the precision-recall curve."
      ],
      "metadata": {
        "id": "30SzPZz2rMHp"
      }
    },
    {
      "cell_type": "code",
      "source": [
        "y_true = [0, 0, 0, 1, 0, 0, 0, 0, 0, 0, 1, 0, 0, 0, 0, 0, 0, 0, 1, 0]\n",
        "y_pred = [0.02638412, 0.11114267, 0.31620708, 0.0490937, 0.0191491, 0.17554844,\n",
        "          0.15952202, 0.03819563, 0.11639273, 0.079377, 0.08584789, 0.39095342,\n",
        "          0.27259048, 0.03447096, 0.04644807, 0.03543574, 0.18521942, 0.05934905,\n",
        "          0.61977213, 0.33056815]"
      ],
      "metadata": {
        "id": "0wFHJ2bVreu5"
      },
      "execution_count": 10,
      "outputs": []
    },
    {
      "cell_type": "markdown",
      "source": [
        "So, y_true is our targets, and y_pred is the probability values for a sample being assigned a value of 1. So, now, we look at probabilities in prediction instead of the predicted value (which is most of the time calculated with a threshold at 0.5)."
      ],
      "metadata": {
        "id": "-lLvPMJIrnM4"
      }
    },
    {
      "cell_type": "code",
      "source": [
        "precisions = []\n",
        "recalls = []\n",
        "# how we assumed these thresholds is a long story\n",
        "thresholds = [0.0490937 , 0.05934905, 0.079377, 0.08584789, 0.11114267, 0.11639273,\n",
        "              0.15952202, 0.17554844, 0.18521942, 0.27259048, 0.31620708, 0.33056815,\n",
        "              0.39095342, 0.61977213]\n",
        "# for every threshold, calculate predictions in binary\n",
        "# and append calculated precisions and recalls\n",
        "# to their respective lists\n",
        "for i in thresholds:\n",
        "  temp_prediction = [1 if x >= i else 0 for x in y_pred]\n",
        "  p = precision(y_true, temp_prediction)\n",
        "  r = recall(y_true, temp_prediction)\n",
        "  precisions.append(p)\n",
        "  recalls.append(r)"
      ],
      "metadata": {
        "id": "jPcivLmUrtJR"
      },
      "execution_count": 17,
      "outputs": []
    },
    {
      "cell_type": "code",
      "source": [
        "import matplotlib.pyplot as plt\n",
        "plt.figure(figsize=(7, 7))\n",
        "plt.plot(recalls, precisions)\n",
        "plt.xlabel('Recall', fontsize=15)\n",
        "plt.ylabel('Precision', fontsize=15)"
      ],
      "metadata": {
        "colab": {
          "base_uri": "https://localhost:8080/",
          "height": 462
        },
        "id": "EptsAOklr80x",
        "outputId": "caa524f4-bf2b-439e-eb1f-282cba38382f"
      },
      "execution_count": 18,
      "outputs": [
        {
          "output_type": "execute_result",
          "data": {
            "text/plain": [
              "Text(0, 0.5, 'Precision')"
            ]
          },
          "metadata": {},
          "execution_count": 18
        },
        {
          "output_type": "display_data",
          "data": {
            "text/plain": [
              "<Figure size 504x504 with 1 Axes>"
            ],
            "image/png": "[encoded data removed]"
          },
          "metadata": {
            "needs_background": "light"
          }
        }
      ]
    },
    {
      "cell_type": "markdown",
      "source": [
        "You will notice that it’s challenging to choose a value of threshold that gives both good precision and recall values. If the threshold is too high, you have a smaller number of true positives and a high number of false negatives. This decreases your recall; however, your precision score will be high. If you reduce the threshold too low, false positives will increase a lot, and precision will be less.\n",
        "\n",
        "Both precision and recall range from 0 to 1 and a value closer to 1 is better. F1 score is a metric that combines both precision and recall. It is defined as a simple weighted average (harmonic mean) of precision and recall. If we denote precision using P and recall using R, we can represent the F1 score as:\n",
        "\n",
        "$F1 = \\frac{2PR}{P + R} = \\frac{2TP}{2TP + FP + FN}$"
      ],
      "metadata": {
        "id": "kLEE3A48sKrr"
      }
    },
    {
      "cell_type": "code",
      "source": [
        "def f1(y_true, y_pred):\n",
        "  \"\"\"\n",
        "  Function to calculate f1 score\n",
        "  :param y_true: list of true values\n",
        "  :param y_pred: list of predicted values\n",
        "  :return: f1 score\n",
        "  \"\"\"\n",
        "  p = precision(y_true, y_pred)\n",
        "  r = recall(y_true, y_pred)\n",
        "  score = 2 * p * r / (p + r)\n",
        "  return score"
      ],
      "metadata": {
        "id": "MJ_Ob9f_sZkg"
      },
      "execution_count": 19,
      "outputs": []
    },
    {
      "cell_type": "markdown",
      "source": [
        "Instead of looking at precision and recall individually, you can also just look at F1 score. Same as for precision, recall and accuracy, F1 score also ranges from 0 to 1, and a perfect prediction model has an F1 of 1. When dealing with datasets that have skewed targets, we should look at F1 (or precision and recall) instead of accuracy. Then there are other crucial terms that we should know about.\n",
        "\n",
        "TPR or sensitivity which is already mentioned about as it's equal to Recall\n",
        "\n",
        "$FPR = \\frac{FP}{TN + FP}$"
      ],
      "metadata": {
        "id": "MGKMRBj1scOp"
      }
    },
    {
      "cell_type": "code",
      "source": [
        "tpr = recall\n",
        "def fpr(y_true, y_pred):\n",
        "  \"\"\"\n",
        "  Function to calculate fpr\n",
        "  :param y_true: list of true values\n",
        "  :param y_pred: list of predicted values\n",
        "  :return: fpr\n",
        "  \"\"\"\n",
        "  fp = false_positive(y_true, y_pred)\n",
        "  tn = true_negative(y_true, y_pred)\n",
        "  return fp / (tn + fp)"
      ],
      "metadata": {
        "id": "mZ3qbdscsiYa"
      },
      "execution_count": 22,
      "outputs": []
    },
    {
      "cell_type": "markdown",
      "source": [
        "$TNR = 1 - FPR$"
      ],
      "metadata": {
        "id": "2dJ7vyEmssmB"
      }
    },
    {
      "cell_type": "code",
      "source": [
        "tpr_list = []\n",
        "fpr_list = []\n",
        "# actual targets\n",
        "y_true = [0, 0, 0, 0, 1, 0, 1, 0, 0, 1, 0, 1, 0, 0, 1]\n",
        "# predicted probabilities of a sample being 1\n",
        "y_pred = [0.1, 0.3, 0.2, 0.6, 0.8, 0.05, 0.9, 0.5, 0.3, 0.66, 0.3, 0.2,\n",
        "          0.85, 0.15, 0.99]\n",
        "# handmade thresholds\n",
        "thresholds = [0, 0.1, 0.2, 0.3, 0.4, 0.5, 0.6, 0.7, 0.8, 0.85, 0.9, 0.99, 1.0]\n",
        "# loop over all thresholds\n",
        "for thresh in thresholds:\n",
        "  # calculate predictions for a given threshold\n",
        "  temp_pred = [1 if x >= thresh else 0 for x in y_pred]\n",
        "  # calculate tpr\n",
        "  temp_tpr = tpr(y_true, temp_pred)\n",
        "  # calculate fpr\n",
        "  temp_fpr = fpr(y_true, temp_pred)\n",
        "  # append tpr and fpr to lists\n",
        "  tpr_list.append(temp_tpr)\n",
        "  fpr_list.append(temp_fpr)"
      ],
      "metadata": {
        "id": "zoaF0uVxsyeN"
      },
      "execution_count": 23,
      "outputs": []
    },
    {
      "cell_type": "code",
      "source": [
        "plt.figure(figsize=(7, 7))\n",
        "plt.fill_between(fpr_list, tpr_list, alpha=0.4)\n",
        "plt.plot(fpr_list, tpr_list, lw=3)\n",
        "plt.xlim(0, 1.0)\n",
        "plt.ylim(0, 1.0)\n",
        "plt.xlabel('FPR', fontsize=15)\n",
        "plt.ylabel('TPR', fontsize=15)\n",
        "plt.show()"
      ],
      "metadata": {
        "colab": {
          "base_uri": "https://localhost:8080/",
          "height": 449
        },
        "id": "Tp5oDvEOs3uc",
        "outputId": "aab39260-d079-4725-8f00-9fb0006550bd"
      },
      "execution_count": 24,
      "outputs": [
        {
          "output_type": "display_data",
          "data": {
            "text/plain": [
              "<Figure size 504x504 with 1 Axes>"
            ],
            "image/png": "[encoded data removed]"
          },
          "metadata": {
            "needs_background": "light"
          }
        }
      ]
    },
    {
      "cell_type": "markdown",
      "source": [
        "This curve is also known as the Receiver Operating Characteristic (ROC). And if we calculate the area under this ROC curve, we are calculating another metric which is used very often when you have a dataset which has skewed binary targets. This metric is known as the Area Under ROC Curve or Area Under Curve or just simply AUC. There are many ways to calculate the area under the ROC curve. For this particular purpose, we will stick to the fantastic implementation by scikitlearn."
      ],
      "metadata": {
        "id": "vcQT9YMas_KA"
      }
    },
    {
      "cell_type": "code",
      "source": [
        "from sklearn.metrics import accuracy_score, f1_score, roc_auc_score\n",
        "\n",
        "y_true = [0, 0, 0, 0, 1, 0, 1, 0, 0, 1, 0, 1, 0, 0, 1]\n",
        "y_pred = [0.1, 0.3, 0.2, 0.6, 0.8, 0.05, 0.9, 0.5, 0.3, 0.66, 0.3, 0.2,\n",
        "          0.85, 0.15, 0.99]\n",
        "roc_auc_score(y_true, y_pred)"
      ],
      "metadata": {
        "colab": {
          "base_uri": "https://localhost:8080/"
        },
        "id": "hAs49oMStGyd",
        "outputId": "4b67862f-abe7-44fa-8140-61487242971e"
      },
      "execution_count": 25,
      "outputs": [
        {
          "output_type": "execute_result",
          "data": {
            "text/plain": [
              "0.8300000000000001"
            ]
          },
          "metadata": {},
          "execution_count": 25
        }
      ]
    },
    {
      "cell_type": "markdown",
      "source": [
        "AUC values range from 0 to 1.\n",
        "- AUC = 1 implies you have a perfect model. Most of the time, it means that you made some mistake with validation and should revisit data processing and validation pipeline of yours. If you didn’t make any mistakes, then congratulations, you have the best model one can have for the dataset you\n",
        "built it on.\n",
        "- AUC = 0 implies that your model is very bad (or very good!). Try inverting the probabilities for the predictions, for example, if your probability for the positive class is p, try substituting it with 1-p. This kind of AUC may also mean that there is some problem with your validation or data processing.\n",
        "- AUC = 0.5 implies that your predictions are random. So, for any binary classification problem, if I predict all targets as 0.5, I will get an AUC of 0.5.\n",
        "AUC values between 0 and 0.5 imply that your model is worse than random. Most of the time, it’s because you inverted the classes. If you try to invert your predictions, your AUC might become more than 0.5. AUC values closer to 1 are\n",
        "considered good.\n",
        "\n",
        "But what does AUC say about our model?\n",
        "\n",
        "Suppose you get an AUC of 0.85 when you build a model to detect pneumothorax from chest x-ray images. This means that if you select a random image from your dataset with pneumothorax (positive sample) and another random image without pneumothorax (negative sample), then the pneumothorax image will rank higher than a non-pneumothorax image with a probability of 0.85.\n",
        "\n",
        "After calculating probabilities and AUC, you would want to make predictions on the test set. Depending on the problem and use-case, you might want to either have probabilities or actual classes. If you want to have probabilities, it’s effortless. You already have them. If you want to have classes, you need to select a threshold. In the case of binary classification, you can do something like the following.\n",
        "\n",
        "**Prediction = Probability >= Threshold**\n",
        "\n",
        "Which means, that prediction is a new list which contains only binary variables. An item in prediction is 1 if the probability is greater than or equal to a given threshold\n",
        "else the value is 0. And guess what, you can use the ROC curve to choose this threshold! The ROC curve will tell you how the threshold impacts false positive rate and true positive rate and thus, in turn, false positives and true positives. You should choose the threshold that is best suited for your problem and datasets.\n",
        "\n",
        "For example, if you don’t want to have too many false positives, you should have a high threshold value. This will, however, also give you a lot more false negatives. Observe the trade-off and select the best threshold. Let’s see how these thresholds impact true positive and false positive values."
      ],
      "metadata": {
        "id": "HdOsRT5Ltbaz"
      }
    },
    {
      "cell_type": "code",
      "source": [
        "tp_list = []\n",
        "fp_list = []\n",
        "tpr_list = []\n",
        "fpr_list = []\n",
        "# actual targets\n",
        "y_true = [0, 0, 0, 0, 1, 0, 1, 0, 0, 1, 0, 1, 0, 0, 1]\n",
        "# predicted probabilities of a sample being 1\n",
        "y_pred = [0.1, 0.3, 0.2, 0.6, 0.8, 0.05, 0.9, 0.5, 0.3, 0.66, 0.3, 0.2, \n",
        "          0.85, 0.15, 0.99]\n",
        "# some handmade thresholds\n",
        "thresholds = [0, 0.1, 0.2, 0.3, 0.4, 0.5, 0.6, 0.7, 0.8, 0.85, 0.9, 0.99, 1.0]\n",
        "# loop over all thresholds\n",
        "for thresh in thresholds:\n",
        "  # calculate predictions for a given threshold\n",
        "  temp_pred = [1 if x >= thresh else 0 for x in y_pred]\n",
        "  # calculate tp\n",
        "  temp_tp = true_positive(y_true, temp_pred)\n",
        "  temp_tpr = tpr(y_true, temp_pred)\n",
        "  # calculate fp\n",
        "  temp_fp = false_positive(y_true, temp_pred)\n",
        "  temp_fpr = fpr(y_true, temp_pred)\n",
        "  # append tp and fp to lists\n",
        "  tp_list.append(temp_tp)\n",
        "  fp_list.append(temp_fp)\n",
        "  tpr_list.append(temp_tpr)\n",
        "  fpr_list.append(temp_fpr)"
      ],
      "metadata": {
        "id": "hACQRG8tuAaI"
      },
      "execution_count": 31,
      "outputs": []
    },
    {
      "cell_type": "code",
      "source": [
        "tp_list\n",
        "fp_list"
      ],
      "metadata": {
        "colab": {
          "base_uri": "https://localhost:8080/"
        },
        "id": "x2-73eeXuW-Q",
        "outputId": "3cf53bf5-33b6-4463-d20e-e51b8c552305"
      },
      "execution_count": 30,
      "outputs": [
        {
          "output_type": "execute_result",
          "data": {
            "text/plain": [
              "[10, 9, 7, 6, 3, 3, 2, 1, 1, 1, 0, 0, 0]"
            ]
          },
          "metadata": {},
          "execution_count": 30
        }
      ]
    },
    {
      "cell_type": "code",
      "source": [
        "plt.figure(figsize=(7, 7))\n",
        "plt.fill_between(fpr_list, tpr_list, alpha=0.4)\n",
        "plt.plot(fpr_list, tpr_list, lw=3)\n",
        "plt.xlim(0, 1.0)\n",
        "plt.ylim(0, 1.0)\n",
        "plt.xlabel('FPR', fontsize=15)\n",
        "plt.ylabel('TPR', fontsize=15)\n",
        "plt.show()"
      ],
      "metadata": {
        "colab": {
          "base_uri": "https://localhost:8080/",
          "height": 449
        },
        "id": "YLxeYl4muLzC",
        "outputId": "b34f9961-b853-4a30-d4bf-90cad4126d54"
      },
      "execution_count": 32,
      "outputs": [
        {
          "output_type": "display_data",
          "data": {
            "text/plain": [
              "<Figure size 504x504 with 1 Axes>"
            ],
            "image/png": "[encoded data removed]"
          },
          "metadata": {
            "needs_background": "light"
          }
        }
      ]
    },
    {
      "cell_type": "markdown",
      "source": [
        "Most of the time, the top-left value on ROC curve should give you a quite good threshold, as shown in figure above.\n",
        "Comparing the table and the ROC curve, we see that a threshold of around 0.6 is quite good where we do not lose a lot of true positives and neither we have a lot of\n",
        "false positives.\n",
        "\n",
        "AUC is a widely used metric for skewed binary classification tasks in the industry, and a metric everyone should know about. Once you understand the idea behind AUC, as explained in the paragraphs above, it is also easy to explain it to nontechnical people who would probably be assessing your models in the industry.\n",
        "\n",
        "Another important metric you should learn after learning AUC is log loss. In case of a binary classification problem, we define log loss as:\n",
        "\n",
        "$\\text{Log Loss} = -1.0 * (\\text{target} * \\log(\\text{prediction}) + (1 - \\text{target})*\\log(1-\\text{prediction}))$\n",
        "\n",
        "Where target is either 0 or 1 and prediction is a probability of a sample belonging to class 1\n",
        "\n",
        "For multiple samples in the dataset, the log-loss over all samples is a mere average of all individual log losses. One thing to remember is that log loss penalizes quite high for an incorrect or a far-off prediction, i.e. log loss punishes you for being very sure and very wrong."
      ],
      "metadata": {
        "id": "wBJaH-_xuS5n"
      }
    },
    {
      "cell_type": "code",
      "source": [
        "import numpy as np\n",
        "def log_loss(_true, y_proba):\n",
        "  \"\"\"\n",
        "  Function to calculate log loss\n",
        "  :param y_true: list of true values\n",
        "  :param y_proba: list of probabilities for 1\n",
        "  :return: overall log loss\n",
        "  \"\"\"\n",
        "  # define an epsilon value\n",
        "  # this can also be an input\n",
        "  # this value is used to clip probabilities\n",
        "  epsilon = 1e-15\n",
        "  # initialize empty list to store\n",
        "  # individual losses\n",
        "  loss = []\n",
        "  # loop over all true and predicted probability values\n",
        "  for yt, yp in zip(y_true, y_proba):\n",
        "    # adjust probability\n",
        "    # 0 gets converted to 1e-15\n",
        "    # 1 gets converted to 1-1e-15\n",
        "    # Why? Think about it!\n",
        "    yp = np.clip(yp, epsilon, 1 - epsilon)\n",
        "    # calculate loss for one sample\n",
        "    temp_loss = - 1.0 * (\n",
        "    yt * np.log(yp)\n",
        "    + (1 - yt) * np.log(1 - yp)\n",
        "    )\n",
        "  # add to loss list\n",
        "    loss.append(temp_loss)\n",
        "  # return mean loss over all samples\n",
        "  return np.mean(loss)"
      ],
      "metadata": {
        "id": "gXwhnvaavUrX"
      },
      "execution_count": 33,
      "outputs": []
    },
    {
      "cell_type": "code",
      "source": [
        "y_true = [0, 0, 0, 0, 1, 0, 1, 0, 0, 1, 0, 1, 0, 0, 1]\n",
        "y_proba = [0.1, 0.3, 0.2, 0.6, 0.8, 0.05,\n",
        "                   0.9, 0.5, 0.3, 0.66, 0.3, 0.2,\n",
        "                   0.85, 0.15, 0.99]\n",
        "log_loss(y_true, y_proba)"
      ],
      "metadata": {
        "colab": {
          "base_uri": "https://localhost:8080/"
        },
        "id": "IGMk4f0GvlMl",
        "outputId": "713e8f96-3bc4-4331-aa9e-50a753446ae7"
      },
      "execution_count": 34,
      "outputs": [
        {
          "output_type": "execute_result",
          "data": {
            "text/plain": [
              "0.49882711861432294"
            ]
          },
          "metadata": {},
          "execution_count": 34
        }
      ]
    },
    {
      "cell_type": "markdown",
      "source": [
        "For example, if you are 51% sure about a sample belonging to class 1, log loss\n",
        "would be:\n",
        "- 1.0 * ( 1 * log(0.51) + (1 - 1) * log(1 – 0.51) ) = 0.67\n",
        "\n",
        "And if you are 49% sure for a sample belonging to class 0, log loss would be:\n",
        "- 1.0 * ( 0 * log(0.49) + (1 - 0) * log(1 – 0.49) ) = 0.67\n",
        "\n",
        "So, even though we can choose a cut off at 0.5 and get perfect predictions, we will\n",
        "still have a very high log loss. So, when dealing with log loss, you need to be very\n",
        "careful; any non-confident prediction will have a very high log loss.\n",
        "\n"
      ],
      "metadata": {
        "id": "Prc_D1B7vsZJ"
      }
    },
    {
      "cell_type": "markdown",
      "source": [
        "## Multi-class\n",
        "Most of the metrics that we discussed until now can be converted to a multi-class\n",
        "version. The idea is quite simple. Let’s take precision and recall. We can calculate\n",
        "precision and recall for each class in a multi-class classification problem.\n",
        "There are three different ways to calculate this which might get confusing from time\n",
        "to time. Let’s assume we are interested in precision first. We know that precision\n",
        "depends on true positives and false positives.\n",
        "- **Macro averaged precision**: calculate precision for all classes individually\n",
        "and then average them\n",
        "- **Micro averaged precision**: calculate class wise true positive and false\n",
        "positive and then use that to calculate overall precision\n",
        "- **Weighted precision**: same as macro but in this case, it is weighted average\n",
        "depending on the number of items in each class"
      ],
      "metadata": {
        "id": "09djFHqMyyWD"
      }
    },
    {
      "cell_type": "code",
      "source": [
        "def macro_precision(y_true, y_pred):\n",
        "  \"\"\"\n",
        "  Function to calculate macro averaged precision\n",
        "  :param y_true: list of true values\n",
        "  :param y_pred: list of predicted values\n",
        "  :return: macro precision score\n",
        "  \"\"\"\n",
        "  # find the number of classes by taking\n",
        "  # length of unique values in true list\n",
        "  num_classes = len(np.unique(y_true))\n",
        "  # initialize precision to 0\n",
        "  precision = 0\n",
        "  # loop over all classes\n",
        "  for class_ in range(num_classes):\n",
        "    # all classes except current are considered negative\n",
        "    temp_true = [1 if p == class_ else 0 for p in y_true]\n",
        "    temp_pred = [1 if p == class_ else 0 for p in y_pred]\n",
        "    # calculate true positive for current class\n",
        "    tp = true_positive(temp_true, temp_pred)\n",
        "    # calculate false positive for current class\n",
        "    fp = false_positive(temp_true, temp_pred)\n",
        "    # calculate precision for current class\n",
        "    temp_precision = tp / (tp + fp)\n",
        "    # keep adding precision for all classes\n",
        "    precision += temp_precision\n",
        "  # calculate and return average precision over all classes\n",
        "  precision /= num_classes\n",
        "  return precision\n",
        "\n",
        "def micro_precision(y_true, y_pred):\n",
        "  \"\"\"\n",
        "  Function to calculate micro averaged precision\n",
        "  :param y_true: list of true values\n",
        "  :param y_pred: list of predicted values\n",
        "  :return: micro precision score\n",
        "  \"\"\"\n",
        "  # find the number of classes by taking\n",
        "  # length of unique values in true list\n",
        "  num_classes = len(np.unique(y_true))\n",
        "  # initialize tp and fp to 0\n",
        "  tp = 0\n",
        "  fp = 0\n",
        "  # loop over all classes\n",
        "  for class_ in range(num_classes):\n",
        "    # all classes except current are considered negative\n",
        "    temp_true = [1 if p == class_ else 0 for p in y_true]\n",
        "    temp_pred = [1 if p == class_ else 0 for p in y_pred]\n",
        "    # calculate true positive for current class\n",
        "    # and update overall tp\n",
        "    tp += true_positive(temp_true, temp_pred)\n",
        "    # calculate false positive for current class\n",
        "    # and update overall tp\n",
        "    fp += false_positive(temp_true, temp_pred)\n",
        "  # calculate and return overall precision\n",
        "  precision = tp / (tp + fp)\n",
        "  return precision"
      ],
      "metadata": {
        "id": "B2Hnji89wimO"
      },
      "execution_count": 37,
      "outputs": []
    },
    {
      "cell_type": "code",
      "source": [
        "from collections import Counter\n",
        "import numpy as np\n",
        "def weighted_precision(y_true, y_pred):\n",
        "  \"\"\"\n",
        "  Function to calculate weighted averaged precision\n",
        "  :param y_true: list of true values\n",
        "  :param y_pred: list of predicted values\n",
        "  :return: weighted precision score\n",
        "  \"\"\"\n",
        "  # find the number of classes by taking\n",
        "  # length of unique values in true list\n",
        "  num_classes = len(np.unique(y_true))\n",
        "  # create class:sample count dictionary\n",
        "  # it looks something like this:\n",
        "  # {0: 20, 1:15, 2:21}\n",
        "  class_counts = Counter(y_true)\n",
        "  # initialize precision to 0\n",
        "  precision = 0\n",
        "  # loop over all classes\n",
        "  for class_ in range(num_classes):\n",
        "    # all classes except current are considered negative\n",
        "    temp_true = [1 if p == class_ else 0 for p in y_true]\n",
        "    temp_pred = [1 if p == class_ else 0 for p in y_pred]\n",
        "    # calculate tp and fp for class\n",
        "    tp = true_positive(temp_true, temp_pred)\n",
        "    fp = false_positive(temp_true, temp_pred)\n",
        "    # calculate precision of class\n",
        "    temp_precision = tp / (tp + fp)\n",
        "    # multiply precision with count of samples in class\n",
        "    weighted_precision = class_counts[class_] * temp_precision\n",
        "    # add to overall precision\n",
        "    precision += weighted_precision\n",
        "  # calculate overall precision by dividing by\n",
        "  # total number of samples\n",
        "  overall_precision = precision / len(y_true)\n",
        "  return overall_precision"
      ],
      "metadata": {
        "id": "TZmMfeE6wo72"
      },
      "execution_count": 38,
      "outputs": []
    },
    {
      "cell_type": "markdown",
      "source": [
        "Similarly, we can implement **recall metric for multi-class* and **F1 metric for multi-class**\n",
        "\n",
        "Thus, we have precision, recall and F1 implemented for multi-class problems. You\n",
        "can similarly convert AUC and log loss to multi-class formats too. This format of\n",
        "conversion is known as one-vs-all. \n",
        "\n",
        "In binary or multi-class classification, it is also quite popular to take a look at confusion matrix. Don’t be confused; it’s quite easy. A confusion matrix is nothing\n",
        "but a table of TP, FP, TN and FN. Using the confusion matrix, you can quickly see how many samples were misclassified and how many were classified correctly.\n",
        "\n",
        "One might argue that the confusion matrix should be covered quite early in this chapter, but I chose not to do it. If you understand TP, FP, TN, FN, precision, recall and AUC, it becomes quite easy to understand and interpret confusion matrix. Sometimes, people also prefer calling FP as Type-I error and FN as Type-II error."
      ],
      "metadata": {
        "id": "T3zlCKNKw9qk"
      }
    },
    {
      "cell_type": "code",
      "source": [
        "import matplotlib.pyplot as plt\n",
        "import seaborn as sns\n",
        "from sklearn import metrics\n",
        "# some targets\n",
        "y_true = [0, 1, 2, 0, 1, 2, 0, 2, 2]\n",
        "#some predictions\n",
        "y_pred = [0, 2, 1, 0, 2, 1, 0, 0, 2]\n",
        "# get confusion matrix from sklearn\n",
        "cm = metrics.confusion_matrix(y_true, y_pred)\n",
        "# plot using matplotlib and seaborn\n",
        "plt.figure(figsize=(6, 6))\n",
        "cmap = sns.cubehelix_palette(50, hue=0.05, rot=0, light=0.9, dark=0,\n",
        "as_cmap=True)\n",
        "sns.set(font_scale=2.5)\n",
        "sns.heatmap(cm, annot=True, cmap=cmap, cbar=False)\n",
        "plt.ylabel('Actual Labels', fontsize=20)\n",
        "plt.xlabel('Predicted Labels', fontsize=20)"
      ],
      "metadata": {
        "colab": {
          "base_uri": "https://localhost:8080/",
          "height": 432
        },
        "id": "iK9HIV2TxXjR",
        "outputId": "b96cfebe-63f5-4600-a63e-01d94560d157"
      },
      "execution_count": 41,
      "outputs": [
        {
          "output_type": "execute_result",
          "data": {
            "text/plain": [
              "Text(0.5, 12.5, 'Predicted Labels')"
            ]
          },
          "metadata": {},
          "execution_count": 41
        },
        {
          "output_type": "display_data",
          "data": {
            "text/plain": [
              "<Figure size 432x432 with 1 Axes>"
            ],
            "image/png": "[encoded data removed]"
          },
          "metadata": {}
        }
      ]
    },
    {
      "cell_type": "markdown",
      "source": [
        "## Multi-label classification\n",
        "\n",
        "In multi-label classification, each sample can have one or more\n",
        "classes associated with it. One simple example of this type of problem would be a\n",
        "task in which you are asked to predict different objects in a given image. So, one image can have multiple targets associated with it.\n",
        "\n",
        "<img src = 'https://www.flickr.com/photos/krakluski/2950388100'/>\n",
        "\n",
        "The metrics for this type of classification problem are a bit different. Some suitable\n",
        "and most common metrics are:\n",
        "- Precision at k (P@k)\n",
        "- Average precision at k (AP@k)\n",
        "- Mean average precision at k (MAP@k)\n",
        "- Log loss\n",
        "\n",
        "P@k\n",
        "\n",
        "If you have a list of original classes for a given sample and list of predicted classes for the same, precision is defined as the number of hits in the predicted list considering only top-k predictions, divided by k."
      ],
      "metadata": {
        "id": "4LCOts1ExmPZ"
      }
    },
    {
      "cell_type": "code",
      "source": [
        "def pk(y_true, y_pred, k):\n",
        "  \"\"\"\n",
        "  This function calculates precision at k\n",
        "  for a single sample\n",
        "  :param y_true: list of values, actual classes\n",
        "  :param y_pred: list of values, predicted classes\n",
        "  :param k: the value for k\n",
        "  :return: precision at a given value k\n",
        "  \"\"\"\n",
        "  # if k is 0, return 0. we should never have this\n",
        "  # as k is always >= 1\n",
        "  if k == 0:\n",
        "    return 0\n",
        "  # we are interested only in top-k predictions\n",
        "  y_pred = y_pred[:k]\n",
        "  # convert predictions to set\n",
        "  pred_set = set(y_pred)\n",
        "  # convert actual values to set\n",
        "  true_set = set(y_true)\n",
        "  # find common values\n",
        "  common_values = pred_set.intersection(true_set)\n",
        "  # return length of common values over k\n",
        "  return len(common_values) / len(y_pred[:k])"
      ],
      "metadata": {
        "id": "Z-cLqxK4yqnm"
      },
      "execution_count": 42,
      "outputs": []
    },
    {
      "cell_type": "markdown",
      "source": [
        "AP@k is calculated using P@k.\n",
        "For example, if we have to calculate AP@3, we calculate P@1, P@2 and P@3 and\n",
        "then divide the sum by 3."
      ],
      "metadata": {
        "id": "Eod94zbhznNX"
      }
    },
    {
      "cell_type": "code",
      "source": [
        "def apk(y_true, y_pred, k):\n",
        "  \"\"\"\n",
        "  This function calculates average precision at k\n",
        "  for a single sample\n",
        "  :param y_true: list of values, actual classes\n",
        "  :param y_pred: list of values, predicted classes\n",
        "  :return: average precision at a given value k\n",
        "  \"\"\"\n",
        "  # initialize p@k list of values\n",
        "  pk_values = []\n",
        "  # loop over all k. from 1 to k + 1\n",
        "  for i in range(1, k + 1):\n",
        "    # calculate p@i and append to list\n",
        "    pk_values.append(pk(y_true, y_pred, i))\n",
        "  # if we have no values in the list, return 0\n",
        "  if len(pk_values) == 0:\n",
        "    return 0\n",
        "  # else, we return the sum of list over length of list\n",
        "  return sum(pk_values) / len(pk_values)"
      ],
      "metadata": {
        "id": "vWG1BEUCzrzr"
      },
      "execution_count": 43,
      "outputs": []
    },
    {
      "cell_type": "markdown",
      "source": [
        "In machine learning,\n",
        "we are interested in all samples, and that’s why we have mean average precision\n",
        "at k or MAP@k. MAP@k is just an average of AP@k"
      ],
      "metadata": {
        "id": "lbYRdpY5z-9m"
      }
    },
    {
      "cell_type": "code",
      "source": [
        "def mapk(y_true, y_pred, k):\n",
        "  \"\"\"\n",
        "  This function calculates mean avg precision at k\n",
        "  for a single sample\n",
        "  :param y_true: list of values, actual classes\n",
        "  :param y_pred: list of values, predicted classes\n",
        "  :return: mean avg precision at a given value k\n",
        "  \"\"\"\n",
        "  # initialize empty list for apk values\n",
        "  apk_values = []\n",
        "  # loop over all samples\n",
        "  for i in range(len(y_true)):\n",
        "    # store apk values for every sample\n",
        "    apk_values.append(apk(y_true[i], y_pred[i], k = k))\n",
        "\n",
        "  return sum(apk_values)/len(apk_values)"
      ],
      "metadata": {
        "id": "WLOFu6N8z_3h"
      },
      "execution_count": 45,
      "outputs": []
    },
    {
      "cell_type": "markdown",
      "source": [
        "log loss for multi-label classification. \n",
        "\n",
        "You can convert the targets to binary format and then use a log loss for each column. In the end, you can take the average of log loss in each column. This is also known as\n",
        "mean column-wise log loss.\n",
        "\n"
      ],
      "metadata": {
        "id": "hST01CWa0KGY"
      }
    },
    {
      "cell_type": "markdown",
      "source": [
        "# Regression\n",
        "\n",
        "The most common metric in regression is error. Error is simple and very easy to\n",
        "understand.\n",
        "$Error = True Value – Predicted Value$\n",
        "\n",
        "Absolute error is just absolute of the above.\n",
        "\n",
        "$Absolute Error =  |True Value – Predicted Value|$\n",
        "\n",
        "Then we have mean absolute error (MAE). It’s just mean of all absolute errors.\n",
        "\n",
        "Mean squared error (MSE)\n",
        "\n",
        "RMSE\n",
        "\n",
        "SLE\n",
        "\n",
        "RMSLE\n",
        "\n",
        "Percentage error\n",
        "\n",
        "Mean absolute percentage error\n",
        "\n",
        "The best thing about regression is that there are only a few most popular metrics\n",
        "that can be applied to almost every regression problem. And it is much easier to\n",
        "understand when we compare it to classification metrics.\n",
        "Let’s talk about another regression metric known as R2 (R-squared), also known\n",
        "as the coefficient of determination.\n",
        "In simple words, R-squared says how good your model fits the data. R-squared\n",
        "closer to 1.0 says that the model fits the data quite well, whereas closer 0 means\n",
        "that model isn’t that good. R-squared can also be negative when the model just\n",
        "makes absurd predictions.\n",
        "\n",
        "$R^2 = 1 - \\frac{\\sum_{i = 1}^N (y_{ti} - y_{pi})^2}{\\sum_{i=1}^N(y_{ti} - y_{t_{mean}})}$"
      ],
      "metadata": {
        "id": "s2PRWImJ0bjY"
      }
    },
    {
      "cell_type": "code",
      "source": [
        "def r2(y_true, y_pred):\n",
        "  \"\"\"\n",
        "  This function calculates r-squared score\n",
        "  :param y_true: list of real numbers, true values\n",
        "  :param y_pred: list of real numbers, predicted values\n",
        "  :return: r2 score\n",
        "  \"\"\"\n",
        "  # calculate the mean value of true values\n",
        "  mean_true_value = np.mean(y_true)\n",
        "  # initialize numerator with 0\n",
        "  numerator = 0\n",
        "  # initialize denominator with 0\n",
        "  denominator = 0\n",
        "  # loop over all true and predicted values\n",
        "  for yt, yp in zip(y_true, y_pred):\n",
        "    # update numerator\n",
        "    numerator += (yt - yp) ** 2\n",
        "    # update denominator\n",
        "    denominator += (yt - mean_true_value) ** 2\n",
        "  # calculate the ratio\n",
        "  ratio = numerator / denominator\n",
        "  # return 1 - ratio\n",
        "  return 1 - ratio"
      ],
      "metadata": {
        "id": "M0S50k8d0t2f"
      },
      "execution_count": 47,
      "outputs": []
    },
    {
      "cell_type": "markdown",
      "source": [
        "# Unsupervised Learning\n",
        "One thing to keep in mind is that to evaluate un-supervised methods, for example,\n",
        "some kind of clustering, it’s better to create or manually label the test set and keep\n",
        "it separate from everything that is going on in your modelling part. When you are\n",
        "done with clustering, you can evaluate the performance on the test set simply by\n",
        "using any of the supervised learning metrics."
      ],
      "metadata": {
        "id": "RGOiC1Hv1U5c"
      }
    },
    {
      "cell_type": "code",
      "source": [
        ""
      ],
      "metadata": {
        "id": "MbP4hU3J1ikj"
      },
      "execution_count": null,
      "outputs": []
    }
  ]
}