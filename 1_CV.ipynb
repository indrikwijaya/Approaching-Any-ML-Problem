{
  "nbformat": 4,
  "nbformat_minor": 0,
  "metadata": {
    "colab": {
      "name": "1. CV.ipynb",
      "provenance": [],
      "collapsed_sections": [],
      "toc_visible": true,
      "authorship_tag": "ABX9TyM8yWCks0m3NK56PLMdX+6E",
      "include_colab_link": true
    },
    "kernelspec": {
      "name": "python3",
      "display_name": "Python 3"
    },
    "language_info": {
      "name": "python"
    }
  },
  "cells": [
    {
      "cell_type": "markdown",
      "metadata": {
        "id": "view-in-github",
        "colab_type": "text"
      },
      "source": [
        "<a href=\"https://colab.research.google.com/github/indrikwijaya/Approaching-Any-ML-Problem/blob/master/1_CV.ipynb\" target=\"_parent\"><img src=\"https://colab.research.google.com/assets/colab-badge.svg\" alt=\"Open In Colab\"/></a>"
      ]
    },
    {
      "cell_type": "markdown",
      "source": [
        "Codes to sync the folder with github\n",
        "\n",
        "Source can be found [here](https://medium.com/analytics-vidhya/how-to-use-google-colab-with-github-via-google-drive-68efb23a42d)"
      ],
      "metadata": {
        "id": "uG2txPZHlqsW"
      }
    },
    {
      "cell_type": "code",
      "execution_count": null,
      "metadata": {
        "colab": {
          "base_uri": "https://localhost:8080/"
        },
        "id": "VitYJsH_lpHX",
        "outputId": "bfad6c5b-326b-40b8-b1be-27c4835ec05a"
      },
      "outputs": [
        {
          "output_type": "stream",
          "name": "stdout",
          "text": [
            "Mounted at /content/drive\n"
          ]
        }
      ],
      "source": [
        "# 1. mount gdrive to gcolab notebook\n",
        "from google.colab import drive\n",
        "drive.mount('/content/drive')"
      ]
    },
    {
      "cell_type": "code",
      "source": [
        "%cd /content/drive/MyDrive/Colab\\ Notebooks/Approaching-Any-ML-Problem"
      ],
      "metadata": {
        "colab": {
          "base_uri": "https://localhost:8080/"
        },
        "id": "Vn20YDNll6Uq",
        "outputId": "a7f6afa1-5fa8-4061-c1fc-7cf69bdac46d"
      },
      "execution_count": null,
      "outputs": [
        {
          "output_type": "stream",
          "name": "stdout",
          "text": [
            "/content/drive/MyDrive/Colab Notebooks/Approaching-Any-ML-Problem\n"
          ]
        }
      ]
    },
    {
      "cell_type": "markdown",
      "source": [
        "# Cross-validation\n",
        "\n",
        "- a step in the process of building a ML model which helps us ensure that our models fit the data accurately and also ensures that we don't overfit\n",
        "\n"
      ],
      "metadata": {
        "id": "E-hk3rKfqkGm"
      }
    },
    {
      "cell_type": "markdown",
      "source": [
        "## What is overfitting?\n",
        "\n",
        "Look at `red wine quality dataset`. There are 11 attributes:\n",
        "- fixed acidity\n",
        "- volatile acidity\n",
        "- citric acid\n",
        "- residual sugar\n",
        "- chlorides\n",
        "- free sulfur dioxide\n",
        "- total sulfur dioxide\n",
        "- density\n",
        "- pH\n",
        "- sulphates\n",
        "- alcohol\n",
        "\n",
        "Based on these attributes, we want to predict the quality of red wine ($1 \\leq x \\leq 10$)"
      ],
      "metadata": {
        "id": "ifIS3DayoRcd"
      }
    },
    {
      "cell_type": "code",
      "source": [
        "import pandas as pd\n",
        "\n",
        "df = pd.read_csv('data/winequality-red.csv')\n",
        "\n",
        "df.head()\n"
      ],
      "metadata": {
        "colab": {
          "base_uri": "https://localhost:8080/",
          "height": 261
        },
        "id": "otAorpp8q26E",
        "outputId": "2d890dd5-87e9-4af7-87a0-5a484b2bd2f3"
      },
      "execution_count": 30,
      "outputs": [
        {
          "output_type": "execute_result",
          "data": {
            "text/html": [
              "\n",
              "  <div id=\"df-74583cf4-5672-411d-a179-e7223ce4163d\">\n",
              "    <div class=\"colab-df-container\">\n",
              "      <div>\n",
              "<style scoped>\n",
              "    .dataframe tbody tr th:only-of-type {\n",
              "        vertical-align: middle;\n",
              "    }\n",
              "\n",
              "    .dataframe tbody tr th {\n",
              "        vertical-align: top;\n",
              "    }\n",
              "\n",
              "    .dataframe thead th {\n",
              "        text-align: right;\n",
              "    }\n",
              "</style>\n",
              "<table border=\"1\" class=\"dataframe\">\n",
              "  <thead>\n",
              "    <tr style=\"text-align: right;\">\n",
              "      <th></th>\n",
              "      <th>fixed acidity</th>\n",
              "      <th>volatile acidity</th>\n",
              "      <th>citric acid</th>\n",
              "      <th>residual sugar</th>\n",
              "      <th>chlorides</th>\n",
              "      <th>free sulfur dioxide</th>\n",
              "      <th>total sulfur dioxide</th>\n",
              "      <th>density</th>\n",
              "      <th>pH</th>\n",
              "      <th>sulphates</th>\n",
              "      <th>alcohol</th>\n",
              "      <th>quality</th>\n",
              "    </tr>\n",
              "  </thead>\n",
              "  <tbody>\n",
              "    <tr>\n",
              "      <th>0</th>\n",
              "      <td>7.4</td>\n",
              "      <td>0.70</td>\n",
              "      <td>0.00</td>\n",
              "      <td>1.9</td>\n",
              "      <td>0.076</td>\n",
              "      <td>11.0</td>\n",
              "      <td>34.0</td>\n",
              "      <td>0.9978</td>\n",
              "      <td>3.51</td>\n",
              "      <td>0.56</td>\n",
              "      <td>9.4</td>\n",
              "      <td>5</td>\n",
              "    </tr>\n",
              "    <tr>\n",
              "      <th>1</th>\n",
              "      <td>7.8</td>\n",
              "      <td>0.88</td>\n",
              "      <td>0.00</td>\n",
              "      <td>2.6</td>\n",
              "      <td>0.098</td>\n",
              "      <td>25.0</td>\n",
              "      <td>67.0</td>\n",
              "      <td>0.9968</td>\n",
              "      <td>3.20</td>\n",
              "      <td>0.68</td>\n",
              "      <td>9.8</td>\n",
              "      <td>5</td>\n",
              "    </tr>\n",
              "    <tr>\n",
              "      <th>2</th>\n",
              "      <td>7.8</td>\n",
              "      <td>0.76</td>\n",
              "      <td>0.04</td>\n",
              "      <td>2.3</td>\n",
              "      <td>0.092</td>\n",
              "      <td>15.0</td>\n",
              "      <td>54.0</td>\n",
              "      <td>0.9970</td>\n",
              "      <td>3.26</td>\n",
              "      <td>0.65</td>\n",
              "      <td>9.8</td>\n",
              "      <td>5</td>\n",
              "    </tr>\n",
              "    <tr>\n",
              "      <th>3</th>\n",
              "      <td>11.2</td>\n",
              "      <td>0.28</td>\n",
              "      <td>0.56</td>\n",
              "      <td>1.9</td>\n",
              "      <td>0.075</td>\n",
              "      <td>17.0</td>\n",
              "      <td>60.0</td>\n",
              "      <td>0.9980</td>\n",
              "      <td>3.16</td>\n",
              "      <td>0.58</td>\n",
              "      <td>9.8</td>\n",
              "      <td>6</td>\n",
              "    </tr>\n",
              "    <tr>\n",
              "      <th>4</th>\n",
              "      <td>7.4</td>\n",
              "      <td>0.70</td>\n",
              "      <td>0.00</td>\n",
              "      <td>1.9</td>\n",
              "      <td>0.076</td>\n",
              "      <td>11.0</td>\n",
              "      <td>34.0</td>\n",
              "      <td>0.9978</td>\n",
              "      <td>3.51</td>\n",
              "      <td>0.56</td>\n",
              "      <td>9.4</td>\n",
              "      <td>5</td>\n",
              "    </tr>\n",
              "  </tbody>\n",
              "</table>\n",
              "</div>\n",
              "      <button class=\"colab-df-convert\" onclick=\"convertToInteractive('df-74583cf4-5672-411d-a179-e7223ce4163d')\"\n",
              "              title=\"Convert this dataframe to an interactive table.\"\n",
              "              style=\"display:none;\">\n",
              "        \n",
              "  <svg xmlns=\"http://www.w3.org/2000/svg\" height=\"24px\"viewBox=\"0 0 24 24\"\n",
              "       width=\"24px\">\n",
              "    <path d=\"M0 0h24v24H0V0z\" fill=\"none\"/>\n",
              "    <path d=\"M18.56 5.44l.94 2.06.94-2.06 2.06-.94-2.06-.94-.94-2.06-.94 2.06-2.06.94zm-11 1L8.5 8.5l.94-2.06 2.06-.94-2.06-.94L8.5 2.5l-.94 2.06-2.06.94zm10 10l.94 2.06.94-2.06 2.06-.94-2.06-.94-.94-2.06-.94 2.06-2.06.94z\"/><path d=\"M17.41 7.96l-1.37-1.37c-.4-.4-.92-.59-1.43-.59-.52 0-1.04.2-1.43.59L10.3 9.45l-7.72 7.72c-.78.78-.78 2.05 0 2.83L4 21.41c.39.39.9.59 1.41.59.51 0 1.02-.2 1.41-.59l7.78-7.78 2.81-2.81c.8-.78.8-2.07 0-2.86zM5.41 20L4 18.59l7.72-7.72 1.47 1.35L5.41 20z\"/>\n",
              "  </svg>\n",
              "      </button>\n",
              "      \n",
              "  <style>\n",
              "    .colab-df-container {\n",
              "      display:flex;\n",
              "      flex-wrap:wrap;\n",
              "      gap: 12px;\n",
              "    }\n",
              "\n",
              "    .colab-df-convert {\n",
              "      background-color: #E8F0FE;\n",
              "      border: none;\n",
              "      border-radius: 50%;\n",
              "      cursor: pointer;\n",
              "      display: none;\n",
              "      fill: #1967D2;\n",
              "      height: 32px;\n",
              "      padding: 0 0 0 0;\n",
              "      width: 32px;\n",
              "    }\n",
              "\n",
              "    .colab-df-convert:hover {\n",
              "      background-color: #E2EBFA;\n",
              "      box-shadow: 0px 1px 2px rgba(60, 64, 67, 0.3), 0px 1px 3px 1px rgba(60, 64, 67, 0.15);\n",
              "      fill: #174EA6;\n",
              "    }\n",
              "\n",
              "    [theme=dark] .colab-df-convert {\n",
              "      background-color: #3B4455;\n",
              "      fill: #D2E3FC;\n",
              "    }\n",
              "\n",
              "    [theme=dark] .colab-df-convert:hover {\n",
              "      background-color: #434B5C;\n",
              "      box-shadow: 0px 1px 3px 1px rgba(0, 0, 0, 0.15);\n",
              "      filter: drop-shadow(0px 1px 2px rgba(0, 0, 0, 0.3));\n",
              "      fill: #FFFFFF;\n",
              "    }\n",
              "  </style>\n",
              "\n",
              "      <script>\n",
              "        const buttonEl =\n",
              "          document.querySelector('#df-74583cf4-5672-411d-a179-e7223ce4163d button.colab-df-convert');\n",
              "        buttonEl.style.display =\n",
              "          google.colab.kernel.accessAllowed ? 'block' : 'none';\n",
              "\n",
              "        async function convertToInteractive(key) {\n",
              "          const element = document.querySelector('#df-74583cf4-5672-411d-a179-e7223ce4163d');\n",
              "          const dataTable =\n",
              "            await google.colab.kernel.invokeFunction('convertToInteractive',\n",
              "                                                     [key], {});\n",
              "          if (!dataTable) return;\n",
              "\n",
              "          const docLinkHtml = 'Like what you see? Visit the ' +\n",
              "            '<a target=\"_blank\" href=https://colab.research.google.com/notebooks/data_table.ipynb>data table notebook</a>'\n",
              "            + ' to learn more about interactive tables.';\n",
              "          element.innerHTML = '';\n",
              "          dataTable['output_type'] = 'display_data';\n",
              "          await google.colab.output.renderOutput(dataTable, element);\n",
              "          const docLink = document.createElement('div');\n",
              "          docLink.innerHTML = docLinkHtml;\n",
              "          element.appendChild(docLink);\n",
              "        }\n",
              "      </script>\n",
              "    </div>\n",
              "  </div>\n",
              "  "
            ],
            "text/plain": [
              "   fixed acidity  volatile acidity  citric acid  ...  sulphates  alcohol  quality\n",
              "0            7.4              0.70         0.00  ...       0.56      9.4        5\n",
              "1            7.8              0.88         0.00  ...       0.68      9.8        5\n",
              "2            7.8              0.76         0.04  ...       0.65      9.8        5\n",
              "3           11.2              0.28         0.56  ...       0.58      9.8        6\n",
              "4            7.4              0.70         0.00  ...       0.56      9.4        5\n",
              "\n",
              "[5 rows x 12 columns]"
            ]
          },
          "metadata": {},
          "execution_count": 30
        }
      ]
    },
    {
      "cell_type": "code",
      "source": [
        "df.shape"
      ],
      "metadata": {
        "colab": {
          "base_uri": "https://localhost:8080/"
        },
        "id": "T7nqZC2_ubj2",
        "outputId": "b22dc75d-be66-4bdc-ae14-4627997a2389"
      },
      "execution_count": 33,
      "outputs": [
        {
          "output_type": "execute_result",
          "data": {
            "text/plain": [
              "(1599, 12)"
            ]
          },
          "metadata": {},
          "execution_count": 33
        }
      ]
    },
    {
      "cell_type": "code",
      "source": [
        "set(df['quality'])"
      ],
      "metadata": {
        "colab": {
          "base_uri": "https://localhost:8080/"
        },
        "id": "nQ0HFt3It5RR",
        "outputId": "e2cdeae8-c047-4ba2-9802-91d356bd169a"
      },
      "execution_count": 31,
      "outputs": [
        {
          "output_type": "execute_result",
          "data": {
            "text/plain": [
              "{3, 4, 5, 6, 7, 8}"
            ]
          },
          "metadata": {},
          "execution_count": 31
        }
      ]
    },
    {
      "cell_type": "markdown",
      "source": [
        "For simplicity, let's choose this as a classification problem. This dataset, however, consists of only 6 types of quality values, $1-5$.\n"
      ],
      "metadata": {
        "id": "GOhdk9TytkEF"
      }
    },
    {
      "cell_type": "code",
      "source": [
        "# encode quality_mapping\n",
        "quality_mapping = {\n",
        "    3: 0,\n",
        "    4: 1,\n",
        "    5: 2,\n",
        "    6: 3,\n",
        "    7: 4,\n",
        "    8: 5\n",
        "}\n",
        "\n",
        "df.loc[:, 'quality'] = df.quality.map(quality_mapping)"
      ],
      "metadata": {
        "id": "I5Jj-6vit1cF"
      },
      "execution_count": 32,
      "outputs": []
    },
    {
      "cell_type": "markdown",
      "source": [
        "Let's start with something simple such as `decision tree` that we can visualize too. We begin by dividing the data into training and test set"
      ],
      "metadata": {
        "id": "_gIZPZUGuGHM"
      }
    },
    {
      "cell_type": "code",
      "source": [
        "# use sample w/ frac=1 to shuffle the dataframe\n",
        "# reset the indices since they change after\n",
        "df = df.sample(frac=1).reset_index(drop=True)\n",
        "\n",
        "# get top 1000 rows for training\n",
        "df_train = df.head(1000)\n",
        "\n",
        "df_test = df.tail(599)"
      ],
      "metadata": {
        "id": "tTje9lVPuQUV"
      },
      "execution_count": 34,
      "outputs": []
    },
    {
      "cell_type": "markdown",
      "source": [
        "## Training-Decision Tree"
      ],
      "metadata": {
        "id": "Ef30-SHeuhLX"
      }
    },
    {
      "cell_type": "code",
      "source": [
        "from sklearn.tree import DecisionTreeClassifier\n",
        "from sklearn.metrics import accuracy_score"
      ],
      "metadata": {
        "id": "OgGvqL96ueJo"
      },
      "execution_count": 35,
      "outputs": []
    },
    {
      "cell_type": "code",
      "source": [
        "df.columns"
      ],
      "metadata": {
        "colab": {
          "base_uri": "https://localhost:8080/"
        },
        "id": "0idNtdYSuy7e",
        "outputId": "fe198a1e-716b-4c6e-8f0a-5f2f9cd0dceb"
      },
      "execution_count": 36,
      "outputs": [
        {
          "output_type": "execute_result",
          "data": {
            "text/plain": [
              "Index(['fixed acidity', 'volatile acidity', 'citric acid', 'residual sugar',\n",
              "       'chlorides', 'free sulfur dioxide', 'total sulfur dioxide', 'density',\n",
              "       'pH', 'sulphates', 'alcohol', 'quality'],\n",
              "      dtype='object')"
            ]
          },
          "metadata": {},
          "execution_count": 36
        }
      ]
    },
    {
      "cell_type": "code",
      "source": [
        "# initialize decision tree classifier \n",
        "clf = DecisionTreeClassifier(max_depth=3)\n",
        "\n",
        "# choose columns for training as features\n",
        "cols = ['fixed acidity', 'volatile acidity', 'citric acid', 'residual sugar',\n",
        "       'chlorides', 'free sulfur dioxide', 'total sulfur dioxide', 'density',\n",
        "       'pH', 'sulphates', 'alcohol']\n",
        "\n",
        "clf.fit(df_train[cols], df_train.quality)      "
      ],
      "metadata": {
        "colab": {
          "base_uri": "https://localhost:8080/"
        },
        "id": "25utroA2upEV",
        "outputId": "c971e8cd-f60f-4e79-d422-f4e50df2bbda"
      },
      "execution_count": 37,
      "outputs": [
        {
          "output_type": "execute_result",
          "data": {
            "text/plain": [
              "DecisionTreeClassifier(max_depth=3)"
            ]
          },
          "metadata": {},
          "execution_count": 37
        }
      ]
    },
    {
      "cell_type": "markdown",
      "source": [
        "Test the accuracy of the model "
      ],
      "metadata": {
        "id": "EMBZaB3Uu86F"
      }
    },
    {
      "cell_type": "code",
      "source": [
        "# generate predictions on the training set\n",
        "train_predictions = clf.predict(df_train[cols])\n",
        "\n",
        "# generate predictions on the test set\n",
        "test_predictions = clf.predict(df_test[cols])\n",
        "\n",
        "# calculate accuracy on train set\n",
        "train_accuracy = accuracy_score(df_train.quality, train_predictions)\n",
        "\n",
        "train_accuracy"
      ],
      "metadata": {
        "colab": {
          "base_uri": "https://localhost:8080/"
        },
        "id": "PsgXNRmLvBqn",
        "outputId": "8892c019-4473-4152-e904-15ae1d8a73ee"
      },
      "execution_count": 39,
      "outputs": [
        {
          "output_type": "execute_result",
          "data": {
            "text/plain": [
              "0.598"
            ]
          },
          "metadata": {},
          "execution_count": 39
        }
      ]
    },
    {
      "cell_type": "code",
      "source": [
        "# calculate accuracy on test set\n",
        "test_accuracy = accuracy_score(df_test.quality, test_predictions)\n",
        "test_accuracy"
      ],
      "metadata": {
        "colab": {
          "base_uri": "https://localhost:8080/"
        },
        "id": "rr_cTK6avQ51",
        "outputId": "b24ddb19-22fa-4ff7-b921-5340c38c0883"
      },
      "execution_count": 40,
      "outputs": [
        {
          "output_type": "execute_result",
          "data": {
            "text/plain": [
              "0.5225375626043406"
            ]
          },
          "metadata": {},
          "execution_count": 40
        }
      ]
    },
    {
      "cell_type": "markdown",
      "source": [
        "Change `max_depth` to 7"
      ],
      "metadata": {
        "id": "ejLPfjtavdUt"
      }
    },
    {
      "cell_type": "code",
      "source": [
        "# initialize decision tree classifier \n",
        "clf = DecisionTreeClassifier(max_depth=7)\n",
        "\n",
        "# choose columns for training as features\n",
        "cols = ['fixed acidity', 'volatile acidity', 'citric acid', 'residual sugar',\n",
        "       'chlorides', 'free sulfur dioxide', 'total sulfur dioxide', 'density',\n",
        "       'pH', 'sulphates', 'alcohol']\n",
        "\n",
        "clf.fit(df_train[cols], df_train.quality)      \n",
        "\n",
        "# generate predictions on the training set\n",
        "train_predictions = clf.predict(df_train[cols])\n",
        "\n",
        "# generate predictions on the test set\n",
        "test_predictions = clf.predict(df_test[cols])\n",
        "\n",
        "# calculate accuracy on train set\n",
        "train_accuracy = accuracy_score(df_train.quality, train_predictions)\n",
        "\n",
        "print(train_accuracy)\n",
        "\n",
        "# calculate accuracy on test set\n",
        "test_accuracy = accuracy_score(df_test.quality, test_predictions)\n",
        "print(test_accuracy)"
      ],
      "metadata": {
        "colab": {
          "base_uri": "https://localhost:8080/"
        },
        "id": "rfY59tuSvZDS",
        "outputId": "e65b7e4f-3448-4a3a-85d9-0ee39ce3d25c"
      },
      "execution_count": 41,
      "outputs": [
        {
          "output_type": "stream",
          "name": "stdout",
          "text": [
            "0.78\n",
            "0.5709515859766278\n"
          ]
        }
      ]
    },
    {
      "cell_type": "markdown",
      "source": [
        "This gives training accuracy of 76.6% and test accuracy of 57.3%. Here, we have used accuracy, mainly because it is the most straightforward metric. It might not be the best metric for this problem. What about we calculate these accuracies for different values of `max_depth` and make a plot?"
      ],
      "metadata": {
        "id": "Q0X90Yccvq-C"
      }
    },
    {
      "cell_type": "code",
      "source": [
        "import matplotlib\n",
        "import matplotlib.pyplot as plt\n",
        "import seaborn as sns\n",
        "# this is our global size of label text\n",
        "# on the plots\n",
        "matplotlib.rc('xtick', labelsize=20)\n",
        "matplotlib.rc('ytick', labelsize=20)\n",
        "\n",
        "# initialize lists to store accuracies\n",
        "# for training and test data\n",
        "# we start with 50% accuracy\n",
        "train_accuracies = [0.5]\n",
        "test_accuracies = [0.5]\n",
        "\n",
        "# iterate over a few depth values\n",
        "for depth in range(1, 25):\n",
        "# init the model\n",
        "  clf = DecisionTreeClassifier(max_depth=depth)\n",
        "  clf.fit(df_train[cols], df_train.quality)\n",
        "\n",
        "  # create training & test predictions\n",
        "  train_predictions = clf.predict(df_train[cols])\n",
        "  test_predictions = clf.predict(df_test[cols])\n",
        "  # calculate training & test accuracies\n",
        "  train_accuracy = accuracy_score(df_train.quality, train_predictions)\n",
        "  test_accuracy = accuracy_score(df_test.quality, test_predictions)\n",
        "  # append accuracies\n",
        "  train_accuracies.append(train_accuracy)\n",
        "  test_accuracies.append(test_accuracy)\n",
        "\n",
        "# create two plots using matplotlib\n",
        "# and seaborn\n",
        "plt.figure(figsize=(10, 5))\n",
        "sns.set_style(\"whitegrid\")\n",
        "plt.plot(train_accuracies, label=\"train accuracy\")\n",
        "plt.plot(test_accuracies, label=\"test accuracy\")\n",
        "plt.legend(loc=\"upper left\", prop={'size': 15})\n",
        "plt.xticks(range(0, 26, 5))\n",
        "plt.xlabel(\"max_depth\", size=20)\n",
        "plt.ylabel(\"accuracy\", size=20)\n",
        "plt.show()"
      ],
      "metadata": {
        "colab": {
          "base_uri": "https://localhost:8080/",
          "height": 351
        },
        "id": "uO4YE_gjvoI6",
        "outputId": "172cfe58-88e9-45d4-cb4c-da8c9ec1682d"
      },
      "execution_count": 43,
      "outputs": [
        {
          "output_type": "display_data",
          "data": {
            "image/png": "[encoded data removed]",
            "text/plain": [
              "<Figure size 720x360 with 1 Axes>"
            ]
          },
          "metadata": {
            "needs_background": "light"
          }
        }
      ]
    },
    {
      "cell_type": "markdown",
      "source": [
        "- Training accuracy keeps increasing yet test accuracy remains the same or even gets worse\n",
        "- Our simple decisiont ree model keeps learning about the training data better and better with an increase in `max_depth`, but the performance on test data doesn't improve at all -> **OVERFITTING**\n",
        "- Model works well on training data but will not generalize well on unseen samples\n",
        "- *Another definition of overfitting: when the test loss increases as we keep improving training loss*\n",
        "\n",
        "<img src = 'https://vitalflux.com/wp-content/uploads/2020/12/overfitting-and-underfitting-wrt-model-error-vs-complexity-300x173.png'/>\n",
        "\n",
        "Solution: Cross-validation!\n",
        "\n",
        "Different types of CV:\n",
        "- k-fold CV\n",
        "- stratified k-fold CV\n",
        "- hold-out based validation\n",
        "- leave-one-out CV\n",
        "- group k-fold CV"
      ],
      "metadata": {
        "id": "HGyBqYw-woFW"
      }
    },
    {
      "cell_type": "markdown",
      "source": [
        "## Different kind of CV\n",
        "\n",
        "k-fold cv\n",
        "\n",
        "<img src=\"https://amueller.github.io/aml/_images/kfold_cv.png\"/>"
      ],
      "metadata": {
        "id": "EMHpisVGyL0b"
      }
    },
    {
      "cell_type": "code",
      "source": [
        "from sklearn.model_selection import KFold\n",
        "# Kfold\n",
        "if __name__ == \"__main__\":\n",
        "  # Training data is in a CSV file called train.csv\n",
        "  df = pd.read_csv(\"train.csv\")\n",
        "  # we create a new column called kfold and fill it with -1\n",
        "  df[\"kfold\"] = -1\n",
        "  # the next step is to randomize the rows of the data\n",
        "  df = df.sample(frac=1).reset_index(drop=True)\n",
        "  # initiate the kfold class from model_selection module\n",
        "  kf = KFold(n_splits=5)\n",
        "  # fill the new kfold column\n",
        "  for fold, (trn_, val_) in enumerate(kf.split(X=df)):\n",
        "    df.loc[val_, 'kfold'] = fold\n",
        "  # save the new csv with kfold column\n",
        "  df.to_csv(\"train_folds.csv\", index=False)"
      ],
      "metadata": {
        "id": "KL6mPy3Awiin"
      },
      "execution_count": null,
      "outputs": []
    },
    {
      "cell_type": "markdown",
      "source": [
        "Stratified k-fold\n",
        "\n",
        "If you have a skewed dataset for binary classification with 90% positive samples and only 10% negative samples, you don't want to use random k-fold cross-validation. Using simple k-fold cross-validation for a dataset like this can result in folds with all negative samples. In these cases, we prefer using stratified k-fold cross-validation. Stratified k-fold cross-validation keeps the ratio of labels in each fold constant. So, in each fold, you will have the same 90% positive and 10% negative samples. Thus, whatever metric you choose to evaluate, it will give similar results across all folds.\n",
        "\n",
        "<img src=\"https://amueller.github.io/aml/_images/stratified_cv.png\">"
      ],
      "metadata": {
        "id": "dhOX6tlryyRY"
      }
    },
    {
      "cell_type": "code",
      "source": [
        "from sklearn.model_selection import StratifiedKFold\n",
        "if __name__ == \"__main__\":\n",
        "  # Training data is in a csv file called train.csv\n",
        "  df = pd.read_csv(\"train.csv\")\n",
        "  # we create a new column called kfold and fill it with -1\n",
        "  df[\"kfold\"] = -1\n",
        "  # the next step is to randomize the rows of the data\n",
        "  df = df.sample(frac=1).reset_index(drop=True)\n",
        "  # fetch targets\n",
        "  y = df.target.values\n",
        "  # initiate the kfold class from model_selection module\n",
        "  kf = StratifiedKFold(n_splits=5)\n",
        "  # fill the new kfold column\n",
        "  for f, (t_, v_) in enumerate(kf.split(X=df, y=y)):\n",
        "    df.loc[v_, 'kfold'] = f\n",
        "  # save the new csv with kfold column\n",
        "  df.to_csv(\"train_folds.csv\", index=False)"
      ],
      "metadata": {
        "id": "1YK259ksymBp"
      },
      "execution_count": null,
      "outputs": []
    },
    {
      "cell_type": "markdown",
      "source": [
        "For the wine dataset, let's look at the distribution of labels"
      ],
      "metadata": {
        "id": "0nnEsd-mzHa0"
      }
    },
    {
      "cell_type": "code",
      "source": [
        "b = sns.countplot(x='quality', data=df)\n",
        "b.set_xlabel('quality', fontsize=20)\n",
        "b.set_ylabel('count', fontsize=20)"
      ],
      "metadata": {
        "colab": {
          "base_uri": "https://localhost:8080/",
          "height": 312
        },
        "id": "9bjlBtwzzGo0",
        "outputId": "0f5cf417-4922-4db4-fa44-0367f80d4a33"
      },
      "execution_count": 46,
      "outputs": [
        {
          "output_type": "execute_result",
          "data": {
            "text/plain": [
              "Text(0, 0.5, 'count')"
            ]
          },
          "metadata": {},
          "execution_count": 46
        },
        {
          "output_type": "display_data",
          "data": {
            "image/png": "[encoded data removed]",
            "text/plain": [
              "<Figure size 432x288 with 1 Axes>"
            ]
          },
          "metadata": {}
        }
      ]
    },
    {
      "cell_type": "markdown",
      "source": [
        "- skewed distribution -> choose `StratifiedKFold`\n",
        "- rule of thumb: if it's a standard *classification* problem, choose `StratifiedKFold`"
      ],
      "metadata": {
        "id": "c7WqVa80zRso"
      }
    },
    {
      "cell_type": "markdown",
      "source": [
        "**Hold-out**\n",
        "\n",
        "But what should we do if we have a large amount of data? Suppose we have 1\n",
        "million samples. A 5 fold cross-validation would mean training on 800k samples and validating on 200k. Depending on which algorithm we choose, training and even validation can be very expensive for a dataset which is of this size. In these cases, we can opt for a hold-out based validation.\n",
        "The process for creating the hold-out remains the same as stratified k-fold. For a dataset which has 1 million samples, we can create ten folds instead of 5 and keep one of those folds as hold-out. This means we will have 100k samples in the holdout, and we will always calculate loss, accuracy and other metrics on this set and train on 900k samples.\n",
        "\n",
        "Hold-out is also used very frequently with time-series data. Let’s assume the problem we are provided with is predicting sales of a store for 2020, and you are provided all the data from 2015-2019. In this case, you can select all the data for 2019 as a hold-out and train your model on all the data from 2015 to 2018.\n",
        "\n",
        "Suppose we're to predict the sales from time step 31 to 40 given data from time step 0 to 40. We can then keep 21 to 30 as hold-out and train our model from step 0 to step 20. We should also note that when we're predicting from 31 to 40, we should include the data from 21 to 30 in our model; otherwise, performance will be sub-par.\n",
        "\n",
        "In any case, we have to deal with small datasets and creating big validation sets means losing a lot of data for the model to learn. In those cases, we can opt for a type of k-fold cross-validation where k=N, where N is the number of samples in the dataset. This means that in all folds of training, we will be training on all data samples except 1. The number of folds for this type of cross-validation is the same as the number of samples that we have in the dataset.\n",
        "\n",
        "One should note that this type of cross-validation can be costly in terms of the time it takes if the model is not fast enough, but since it’s only preferable to use this cross-validation for small datasets, it doesn’t matter much. \n",
        "\n",
        "Now we can move to regression. The good thing about regression problems is that we can use all the cross-validation techniques mentioned above for regression problems except for stratified k-fold. That is we cannot use stratified k-fold directly, but there are ways to change the problem a bit so that we can use stratified k-fold for regression problems. Mostly, simple k-fold cross-validation works for any regression problem. However, if you see that the distribution of targets is not\n",
        "consistent, you can use stratified k-fold.\n",
        "\n",
        "To use stratified k-fold for a regression problem, we have first to divide the target into bins, and then we can use stratified k-fold in the same way as for classification problems. There are several choices for selecting the appropriate number of bins. If you have a lot of samples( > 10k, > 100k), then you don’t need to care about the number of bins. Just divide the data into 10 or 20 bins. If you do not have a lot of samples, you can use a simple rule like `Sturge’s Rule` to calculate the appropriate\n",
        "number of bins.\n",
        "\n",
        "Sturge's rule:\n",
        "$ \\text{Number of Bins} = 1 + log_2(N)$"
      ],
      "metadata": {
        "id": "-eUxwsuUzd6p"
      }
    },
    {
      "cell_type": "code",
      "source": [
        "from sklearn.datasets import make_regression\n",
        "import numpy as np\n",
        "\n",
        "def create_folds(data):\n",
        "  # we create a new column called kfold and fill it with -1\n",
        "  data[\"kfold\"] = -1\n",
        "  # the next step is to randomize the rows of the data\n",
        "  data = data.sample(frac=1).reset_index(drop=True)\n",
        "  \n",
        "  # calculate the number of bins by Sturge's rule\n",
        "  # Either floor or round\n",
        "  num_bins = int(np.floor(1 + np.log2(len(data))))\n",
        "  \n",
        "  # bin targets\n",
        "  data.loc[:, \"bins\"] = pd.cut(data[\"target\"], bins=num_bins, labels=False)\n",
        "  \n",
        "  # initiate the kfold class from model_selection module\n",
        "  kf = StratifiedKFold(n_splits=5)\n",
        "  \n",
        "  # fill the new kfold column\n",
        "  # note that, instead of targets, we use bins!\n",
        "  for f, (t_, v_) in enumerate(kf.split(X=data, y=data.bins.values)):\n",
        "    data.loc[v_, 'kfold'] = f\n",
        "  \n",
        "  # drop the bins column\n",
        "  data = data.drop(\"bins\", axis=1)\n",
        "  # return dataframe with folds\n",
        "  return data"
      ],
      "metadata": {
        "id": "D66Dx3eazQLv"
      },
      "execution_count": 50,
      "outputs": []
    },
    {
      "cell_type": "code",
      "source": [
        "if __name__ == \"__main__\":\n",
        "  # create a sample dataset with 15000 samples, 100 features, 1 target\n",
        "  X, y = make_regression(n_samples=15000, n_features=100, n_targets=1)\n",
        "\n",
        "  df = pd.DataFrame(X, columns=[f\"f_{i}\" for i in range(X.shape[1])])\n",
        "\n",
        "  df.loc[:, 'target'] = y\n",
        "\n",
        "  # create folds\n",
        "  df = create_folds(df)"
      ],
      "metadata": {
        "colab": {
          "base_uri": "https://localhost:8080/"
        },
        "id": "2raagDbV1I7b",
        "outputId": "868ffb5a-f4c3-4ea7-c04e-82dc86acc165"
      },
      "execution_count": 53,
      "outputs": [
        {
          "output_type": "stream",
          "name": "stderr",
          "text": [
            "/usr/local/lib/python3.7/dist-packages/sklearn/model_selection/_split.py:680: UserWarning: The least populated class in y has only 4 members, which is less than n_splits=5.\n",
            "  UserWarning,\n"
          ]
        }
      ]
    },
    {
      "cell_type": "markdown",
      "source": [
        "We must keep in mind that cross-validation also depends a lot on the data and you might need to adopt new forms of cross-validation depending on your problem and data.\n",
        "\n",
        "For example, let’s say we have a problem in which we would like to build a model to detect skin cancer from skin images of patients. Our task is to build a binary classifier which takes an input image and predicts the probability for it being benign or malignant.\n",
        "\n",
        "In these kinds of datasets, you might have multiple images for the same patient in the training dataset. So, to build a good cross-validation system here, you must have stratified k-folds, but you must also make sure that patients in training data do not appear in validation data. Fortunately, scikit-learn offers a type of cross-validation known as GroupKFold. Here the patients can be considered as groups. But unfortunately, there is no way to combine GroupKFold with StratifiedKFold in scikit-learn. "
      ],
      "metadata": {
        "id": "VcY4lYzx12pw"
      }
    },
    {
      "cell_type": "code",
      "source": [
        ""
      ],
      "metadata": {
        "id": "_IyimSEW1jQk"
      },
      "execution_count": null,
      "outputs": []
    }
  ]
}